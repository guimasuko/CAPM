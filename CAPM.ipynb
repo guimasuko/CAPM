{
 "cells": [
  {
   "cell_type": "markdown",
   "metadata": {},
   "source": [
    "## Modelo CAPM"
   ]
  },
  {
   "cell_type": "code",
   "execution_count": 1,
   "metadata": {},
   "outputs": [],
   "source": [
    "import math\n",
    "import numpy as np\n",
    "import pandas as pd\n",
    "import matplotlib.pyplot as plt\n",
    "import seaborn as sns\n",
    "import statsmodels.formula.api as sm\n",
    "\n",
    "from datetime import datetime, timedelta\n",
    "import pandas_datareader.data as web\n",
    "from calendar import monthrange"
   ]
  },
  {
   "cell_type": "code",
   "execution_count": 2,
   "metadata": {},
   "outputs": [],
   "source": [
    "# função que se a entrada for NaN toma o valor do dia anterior\n",
    "def normalize_nan(df):\n",
    "    for i in range(len(df)):\n",
    "        if i == 0:\n",
    "            pass\n",
    "        elif math.isnan(df.iloc[i]) == True:\n",
    "            df.iloc[i] = df.iloc[i-1]\n",
    "        else:\n",
    "            continue"
   ]
  },
  {
   "cell_type": "code",
   "execution_count": 3,
   "metadata": {},
   "outputs": [],
   "source": [
    "# criando um dataframe com as datas diárias e com frequência trimestral de 01/01/2000 até hoje\n",
    "date_today = datetime.now().date()\n",
    "days = pd.date_range(start = '1995-01-01', end = date_today, freq='D')\n",
    "months = pd.date_range(start = '1995-01-01', end = date_today, freq='MS')\n",
    "# quarters = pd.date_range(start = '2012-06-30', end = date_today, freq='Q')"
   ]
  },
  {
   "cell_type": "markdown",
   "metadata": {},
   "source": [
    "### IPCA"
   ]
  },
  {
   "cell_type": "code",
   "execution_count": 4,
   "metadata": {},
   "outputs": [],
   "source": [
    "# função que recebe código do BC e devolve uma série de acordo\n",
    "# códigos e séries podem ser encontrados em https://www3.bcb.gov.br/sgspub/localizarseries/localizarSeries.do?method=prepararTelaLocalizarSeries\n",
    "def consulta_bc(codigo_bcb):\n",
    "  url = 'http://api.bcb.gov.br/dados/serie/bcdata.sgs.{}/dados?formato=json'.format(codigo_bcb)\n",
    "  df = pd.read_json(url)\n",
    "  df['data'] = pd.to_datetime(df['data'], dayfirst=True)\n",
    "  df.set_index('data', inplace=True)\n",
    "  return df"
   ]
  },
  {
   "cell_type": "code",
   "execution_count": 5,
   "metadata": {},
   "outputs": [],
   "source": [
    "# puxando dados do IPCA direto da base do Banco Central\n",
    "ipca = pd.DataFrame(consulta_bc(433), index=months)"
   ]
  },
  {
   "cell_type": "code",
   "execution_count": 6,
   "metadata": {},
   "outputs": [],
   "source": [
    "# normalizando os NaN\n",
    "normalize_nan(ipca)"
   ]
  },
  {
   "cell_type": "code",
   "execution_count": 7,
   "metadata": {},
   "outputs": [],
   "source": [
    "# transformando o índice que era a data em uma coluna\n",
    "ipca['Data'] = ipca.index"
   ]
  },
  {
   "cell_type": "code",
   "execution_count": 8,
   "metadata": {},
   "outputs": [],
   "source": [
    "# pegando apenas o mês e o ano da data\n",
    "ipca['Data'] = ipca['Data'].dt.to_period('M')"
   ]
  },
  {
   "cell_type": "code",
   "execution_count": 9,
   "metadata": {},
   "outputs": [],
   "source": [
    "# setando a nova data que tem apenas mês e ano como índice\n",
    "ipca.set_index('Data', inplace=True)"
   ]
  },
  {
   "attachments": {},
   "cell_type": "markdown",
   "metadata": {},
   "source": [
    "A variação está em porcentagem. A interpretação desse valor é que os preços de determinado mês aumentaram/diminuiram $x$% em relação aos preços do mês passado. Dessa forma, é necessário escrever como\n",
    "\n",
    "$$\n",
    "    IPCA_{mensal} = \\frac{x}{100}\n",
    "$$\n",
    "\n",
    "onde $x$ é o valor de variação mensal dos preços em porcentagem, em relação aos preços do mês passado."
   ]
  },
  {
   "cell_type": "code",
   "execution_count": 10,
   "metadata": {},
   "outputs": [],
   "source": [
    "# deixando o IPCA em forma decimal\n",
    "ipca['IPCA_m'] = (ipca['valor']/100)"
   ]
  },
  {
   "cell_type": "code",
   "execution_count": 11,
   "metadata": {},
   "outputs": [],
   "source": [
    "# deixando apenas a coluna de IPCA no dataframe\n",
    "ipca = ipca[['IPCA_m']]"
   ]
  },
  {
   "attachments": {},
   "cell_type": "markdown",
   "metadata": {},
   "source": [
    "Os dados do IPCA são variações mensais, precisamos portanto anualizar\n",
    "\n",
    "$$\n",
    "IPCA_{anualizado} = (1+IPCA_{mensal})^{12} -1\n",
    "$$"
   ]
  },
  {
   "cell_type": "code",
   "execution_count": 12,
   "metadata": {},
   "outputs": [],
   "source": [
    "# anualizando o ipca\n",
    "ipca['IPCA'] = (1 + ipca['IPCA_m'])**(12) - 1"
   ]
  },
  {
   "cell_type": "code",
   "execution_count": 13,
   "metadata": {},
   "outputs": [],
   "source": [
    "# deixando apenas o IPCA mensal anualizado\n",
    "ipca = ipca[['IPCA']]"
   ]
  },
  {
   "cell_type": "code",
   "execution_count": 14,
   "metadata": {},
   "outputs": [
    {
     "data": {
      "text/html": [
       "<div>\n",
       "<style scoped>\n",
       "    .dataframe tbody tr th:only-of-type {\n",
       "        vertical-align: middle;\n",
       "    }\n",
       "\n",
       "    .dataframe tbody tr th {\n",
       "        vertical-align: top;\n",
       "    }\n",
       "\n",
       "    .dataframe thead th {\n",
       "        text-align: right;\n",
       "    }\n",
       "</style>\n",
       "<table border=\"1\" class=\"dataframe\">\n",
       "  <thead>\n",
       "    <tr style=\"text-align: right;\">\n",
       "      <th></th>\n",
       "      <th>IPCA</th>\n",
       "    </tr>\n",
       "    <tr>\n",
       "      <th>Data</th>\n",
       "      <th></th>\n",
       "    </tr>\n",
       "  </thead>\n",
       "  <tbody>\n",
       "    <tr>\n",
       "      <th>1995-01</th>\n",
       "      <td>0.224197</td>\n",
       "    </tr>\n",
       "    <tr>\n",
       "      <th>1995-02</th>\n",
       "      <td>0.129506</td>\n",
       "    </tr>\n",
       "    <tr>\n",
       "      <th>1995-03</th>\n",
       "      <td>0.202705</td>\n",
       "    </tr>\n",
       "    <tr>\n",
       "      <th>1995-04</th>\n",
       "      <td>0.333909</td>\n",
       "    </tr>\n",
       "    <tr>\n",
       "      <th>1995-05</th>\n",
       "      <td>0.371901</td>\n",
       "    </tr>\n",
       "    <tr>\n",
       "      <th>...</th>\n",
       "      <td>...</td>\n",
       "    </tr>\n",
       "    <tr>\n",
       "      <th>2022-08</th>\n",
       "      <td>-0.042355</td>\n",
       "    </tr>\n",
       "    <tr>\n",
       "      <th>2022-09</th>\n",
       "      <td>-0.034250</td>\n",
       "    </tr>\n",
       "    <tr>\n",
       "      <th>2022-10</th>\n",
       "      <td>0.073143</td>\n",
       "    </tr>\n",
       "    <tr>\n",
       "      <th>2022-11</th>\n",
       "      <td>0.050325</td>\n",
       "    </tr>\n",
       "    <tr>\n",
       "      <th>2022-12</th>\n",
       "      <td>0.050325</td>\n",
       "    </tr>\n",
       "  </tbody>\n",
       "</table>\n",
       "<p>336 rows × 1 columns</p>\n",
       "</div>"
      ],
      "text/plain": [
       "             IPCA\n",
       "Data             \n",
       "1995-01  0.224197\n",
       "1995-02  0.129506\n",
       "1995-03  0.202705\n",
       "1995-04  0.333909\n",
       "1995-05  0.371901\n",
       "...           ...\n",
       "2022-08 -0.042355\n",
       "2022-09 -0.034250\n",
       "2022-10  0.073143\n",
       "2022-11  0.050325\n",
       "2022-12  0.050325\n",
       "\n",
       "[336 rows x 1 columns]"
      ]
     },
     "execution_count": 14,
     "metadata": {},
     "output_type": "execute_result"
    }
   ],
   "source": [
    "# dataframe de IPCA pronto\n",
    "ipca"
   ]
  },
  {
   "attachments": {},
   "cell_type": "markdown",
   "metadata": {},
   "source": [
    "### Ativo livre de risco"
   ]
  },
  {
   "cell_type": "code",
   "execution_count": 15,
   "metadata": {},
   "outputs": [],
   "source": [
    "# puxando os retornos dos títulos como ativo livre de risco\n",
    "bills = pd.read_csv('bills.csv', sep=';')"
   ]
  },
  {
   "cell_type": "code",
   "execution_count": 16,
   "metadata": {},
   "outputs": [],
   "source": [
    "# transformando a coluna de data (objeto em forma de string) em um objeto de data\n",
    "bills['date'] = pd.to_datetime(bills['date'], dayfirst=True)"
   ]
  },
  {
   "cell_type": "code",
   "execution_count": 17,
   "metadata": {},
   "outputs": [],
   "source": [
    "# deixando as datas com apenas mês e ano\n",
    "bills['date'] = bills['date'].dt.to_period('M')"
   ]
  },
  {
   "cell_type": "code",
   "execution_count": 18,
   "metadata": {},
   "outputs": [],
   "source": [
    "# setando como índice essa nova data\n",
    "bills.set_index('date', inplace=True)"
   ]
  },
  {
   "cell_type": "code",
   "execution_count": 19,
   "metadata": {},
   "outputs": [],
   "source": [
    "# tratando os valores do ativo livre de risco\n",
    "bills['rf'] = bills['rf'].str.replace(',','.')"
   ]
  },
  {
   "cell_type": "code",
   "execution_count": 20,
   "metadata": {},
   "outputs": [],
   "source": [
    "# transformando em um objeto do tipo float\n",
    "bills['rf'] = bills['rf'].astype(float)"
   ]
  },
  {
   "cell_type": "code",
   "execution_count": 21,
   "metadata": {},
   "outputs": [],
   "source": [
    "# deixando em forma decimal\n",
    "bills = bills/100"
   ]
  },
  {
   "attachments": {},
   "cell_type": "markdown",
   "metadata": {},
   "source": [
    "Os valores dos retornos do ativo livre de risco já estão anualizados"
   ]
  },
  {
   "cell_type": "code",
   "execution_count": 22,
   "metadata": {},
   "outputs": [
    {
     "data": {
      "text/html": [
       "<div>\n",
       "<style scoped>\n",
       "    .dataframe tbody tr th:only-of-type {\n",
       "        vertical-align: middle;\n",
       "    }\n",
       "\n",
       "    .dataframe tbody tr th {\n",
       "        vertical-align: top;\n",
       "    }\n",
       "\n",
       "    .dataframe thead th {\n",
       "        text-align: right;\n",
       "    }\n",
       "</style>\n",
       "<table border=\"1\" class=\"dataframe\">\n",
       "  <thead>\n",
       "    <tr style=\"text-align: right;\">\n",
       "      <th></th>\n",
       "      <th>rf</th>\n",
       "    </tr>\n",
       "    <tr>\n",
       "      <th>date</th>\n",
       "      <th></th>\n",
       "    </tr>\n",
       "  </thead>\n",
       "  <tbody>\n",
       "    <tr>\n",
       "      <th>1995-01</th>\n",
       "      <td>0.424101</td>\n",
       "    </tr>\n",
       "    <tr>\n",
       "      <th>1995-02</th>\n",
       "      <td>0.466142</td>\n",
       "    </tr>\n",
       "    <tr>\n",
       "      <th>1995-03</th>\n",
       "      <td>0.497112</td>\n",
       "    </tr>\n",
       "    <tr>\n",
       "      <th>1995-04</th>\n",
       "      <td>0.845738</td>\n",
       "    </tr>\n",
       "    <tr>\n",
       "      <th>1995-05</th>\n",
       "      <td>0.593658</td>\n",
       "    </tr>\n",
       "    <tr>\n",
       "      <th>...</th>\n",
       "      <td>...</td>\n",
       "    </tr>\n",
       "    <tr>\n",
       "      <th>2022-04</th>\n",
       "      <td>0.130709</td>\n",
       "    </tr>\n",
       "    <tr>\n",
       "      <th>2022-05</th>\n",
       "      <td>0.134349</td>\n",
       "    </tr>\n",
       "    <tr>\n",
       "      <th>2022-06</th>\n",
       "      <td>0.134772</td>\n",
       "    </tr>\n",
       "    <tr>\n",
       "      <th>2022-07</th>\n",
       "      <td>0.139443</td>\n",
       "    </tr>\n",
       "    <tr>\n",
       "      <th>2022-08</th>\n",
       "      <td>0.137452</td>\n",
       "    </tr>\n",
       "  </tbody>\n",
       "</table>\n",
       "<p>332 rows × 1 columns</p>\n",
       "</div>"
      ],
      "text/plain": [
       "               rf\n",
       "date             \n",
       "1995-01  0.424101\n",
       "1995-02  0.466142\n",
       "1995-03  0.497112\n",
       "1995-04  0.845738\n",
       "1995-05  0.593658\n",
       "...           ...\n",
       "2022-04  0.130709\n",
       "2022-05  0.134349\n",
       "2022-06  0.134772\n",
       "2022-07  0.139443\n",
       "2022-08  0.137452\n",
       "\n",
       "[332 rows x 1 columns]"
      ]
     },
     "execution_count": 22,
     "metadata": {},
     "output_type": "execute_result"
    }
   ],
   "source": [
    "# retorno do ativo livre de risco pronto\n",
    "bills"
   ]
  },
  {
   "attachments": {},
   "cell_type": "markdown",
   "metadata": {},
   "source": [
    "### Ibovespa"
   ]
  },
  {
   "cell_type": "code",
   "execution_count": 23,
   "metadata": {},
   "outputs": [],
   "source": [
    "# puxando dados do Ibovespa\n",
    "ibov = web.get_data_yahoo('^BVSP', start = \"1995-01-01\")"
   ]
  },
  {
   "cell_type": "code",
   "execution_count": 24,
   "metadata": {},
   "outputs": [],
   "source": [
    "# transformando índice de datas em coluna\n",
    "ibov['Data'] = ibov.index"
   ]
  },
  {
   "cell_type": "code",
   "execution_count": 25,
   "metadata": {},
   "outputs": [],
   "source": [
    "# pegando apenas o dado do ibovespa do primeiro dia do mês\n",
    "ibov = ibov.resample(\"M\", on='Data').first().reset_index(drop=True)"
   ]
  },
  {
   "cell_type": "code",
   "execution_count": 26,
   "metadata": {},
   "outputs": [],
   "source": [
    "# transformando a data apenas em mês e ano\n",
    "ibov['Data'] = ibov['Data'].dt.to_period('M')"
   ]
  },
  {
   "cell_type": "code",
   "execution_count": 27,
   "metadata": {},
   "outputs": [],
   "source": [
    "# setando como índice essa nova data\n",
    "ibov.set_index('Data', inplace=True)"
   ]
  },
  {
   "cell_type": "code",
   "execution_count": 28,
   "metadata": {},
   "outputs": [],
   "source": [
    "# deixando apenas o preço\n",
    "ibov = ibov[['Adj Close']]"
   ]
  },
  {
   "cell_type": "code",
   "execution_count": 29,
   "metadata": {},
   "outputs": [],
   "source": [
    "# preço em t-1\n",
    "ibov['P_t-1'] = ibov['Adj Close'].shift(1)"
   ]
  },
  {
   "attachments": {},
   "cell_type": "markdown",
   "metadata": {},
   "source": [
    "Os retornos do Ibovespa são obtidos através de\n",
    "\n",
    "$$\n",
    "r_{M} = \\frac{P_t^{M} - P_{t-1}^M}{P_{t-1}^M}\n",
    "$$"
   ]
  },
  {
   "cell_type": "code",
   "execution_count": 30,
   "metadata": {},
   "outputs": [],
   "source": [
    "# retornos do Ibovespa\n",
    "ibov['Ibovespa'] = (ibov['Adj Close'] - ibov['P_t-1'])/ibov['P_t-1']"
   ]
  },
  {
   "cell_type": "code",
   "execution_count": 31,
   "metadata": {},
   "outputs": [],
   "source": [
    "# ficando com apenas os retornos do ibovespa\n",
    "ibov = ibov[['Ibovespa']]"
   ]
  },
  {
   "cell_type": "code",
   "execution_count": 32,
   "metadata": {},
   "outputs": [],
   "source": [
    "# retornos anualizados do Ibovespa\n",
    "ibov = (1 + ibov)**(12) - 1"
   ]
  },
  {
   "cell_type": "code",
   "execution_count": 33,
   "metadata": {},
   "outputs": [
    {
     "data": {
      "text/html": [
       "<div>\n",
       "<style scoped>\n",
       "    .dataframe tbody tr th:only-of-type {\n",
       "        vertical-align: middle;\n",
       "    }\n",
       "\n",
       "    .dataframe tbody tr th {\n",
       "        vertical-align: top;\n",
       "    }\n",
       "\n",
       "    .dataframe thead th {\n",
       "        text-align: right;\n",
       "    }\n",
       "</style>\n",
       "<table border=\"1\" class=\"dataframe\">\n",
       "  <thead>\n",
       "    <tr style=\"text-align: right;\">\n",
       "      <th></th>\n",
       "      <th>Ibovespa</th>\n",
       "    </tr>\n",
       "    <tr>\n",
       "      <th>Data</th>\n",
       "      <th></th>\n",
       "    </tr>\n",
       "  </thead>\n",
       "  <tbody>\n",
       "    <tr>\n",
       "      <th>1995-01</th>\n",
       "      <td>NaN</td>\n",
       "    </tr>\n",
       "    <tr>\n",
       "      <th>1995-02</th>\n",
       "      <td>-0.593949</td>\n",
       "    </tr>\n",
       "    <tr>\n",
       "      <th>1995-03</th>\n",
       "      <td>-0.968734</td>\n",
       "    </tr>\n",
       "    <tr>\n",
       "      <th>1995-04</th>\n",
       "      <td>-0.322988</td>\n",
       "    </tr>\n",
       "    <tr>\n",
       "      <th>1995-05</th>\n",
       "      <td>30.914690</td>\n",
       "    </tr>\n",
       "    <tr>\n",
       "      <th>...</th>\n",
       "      <td>...</td>\n",
       "    </tr>\n",
       "    <tr>\n",
       "      <th>2022-08</th>\n",
       "      <td>0.477356</td>\n",
       "    </tr>\n",
       "    <tr>\n",
       "      <th>2022-09</th>\n",
       "      <td>1.518718</td>\n",
       "    </tr>\n",
       "    <tr>\n",
       "      <th>2022-10</th>\n",
       "      <td>0.835049</td>\n",
       "    </tr>\n",
       "    <tr>\n",
       "      <th>2022-11</th>\n",
       "      <td>0.085311</td>\n",
       "    </tr>\n",
       "    <tr>\n",
       "      <th>2022-12</th>\n",
       "      <td>-0.468708</td>\n",
       "    </tr>\n",
       "  </tbody>\n",
       "</table>\n",
       "<p>336 rows × 1 columns</p>\n",
       "</div>"
      ],
      "text/plain": [
       "          Ibovespa\n",
       "Data              \n",
       "1995-01        NaN\n",
       "1995-02  -0.593949\n",
       "1995-03  -0.968734\n",
       "1995-04  -0.322988\n",
       "1995-05  30.914690\n",
       "...            ...\n",
       "2022-08   0.477356\n",
       "2022-09   1.518718\n",
       "2022-10   0.835049\n",
       "2022-11   0.085311\n",
       "2022-12  -0.468708\n",
       "\n",
       "[336 rows x 1 columns]"
      ]
     },
     "execution_count": 33,
     "metadata": {},
     "output_type": "execute_result"
    }
   ],
   "source": [
    "# retorno do ibovespa pronto\n",
    "ibov"
   ]
  },
  {
   "attachments": {},
   "cell_type": "markdown",
   "metadata": {},
   "source": [
    "### Carteiras de ações"
   ]
  },
  {
   "attachments": {},
   "cell_type": "markdown",
   "metadata": {},
   "source": [
    "O arquivo das carteiras de ações foram deixados preparados anteriormente. A partir dos dados de Market Cap (marketcap.csv) e preços dos ativos (stock), foram formadas as cinco carteiras conforme pedido\n",
    "\n",
    "- Ações em 02 de janeiro com market cap nos $20 \\%$ inferiores da B3, isso é, a ação com menor valor de capitalização até a ação no percentil 20.\n",
    "- Ações em 02 de janeiro com market cap entre 20\\% e $40 \\%$.\n",
    "- Ações em 02 de janeiro com market cap entre $40 \\%$ e $60 \\%$.\n",
    "- Ações em 02 de janeiro com market cap entre $60 \\%$ e $80 \\%$.\n",
    "- Ações em 02 de janeiro com market cap entre 80\\% e 100\\%.\n",
    "\n",
    "denominado no dataframe como p20 (1º percentil), p40 (2º percentil), p60 (3º percentil), p80 (4º percentil) e p100 (5º percentil), respectivamente."
   ]
  },
  {
   "cell_type": "code",
   "execution_count": 34,
   "metadata": {},
   "outputs": [],
   "source": [
    "# puxando carteira de ações já separadas em percentis\n",
    "carteiras = pd.read_csv('carteiras.csv', sep=';')"
   ]
  },
  {
   "cell_type": "code",
   "execution_count": 35,
   "metadata": {},
   "outputs": [],
   "source": [
    "# renomeando as colunas\n",
    "carteiras = carteiras.rename(\n",
    "    columns={'Unnamed: 0': 'Data', '1 Percentil': 'p20', '2 Percentil':'p40', '3 Percentil':'p60', '4 Percentil':'p80', '5 Percentil':'p100'})"
   ]
  },
  {
   "cell_type": "code",
   "execution_count": 36,
   "metadata": {},
   "outputs": [],
   "source": [
    "# transformando em um objeto de data\n",
    "carteiras['Data'] = pd.to_datetime(carteiras['Data'], dayfirst=True)"
   ]
  },
  {
   "cell_type": "code",
   "execution_count": 37,
   "metadata": {},
   "outputs": [],
   "source": [
    "# pegando apenas mês e ano da data\n",
    "carteiras['Data'] = carteiras['Data'].dt.to_period('M')"
   ]
  },
  {
   "cell_type": "code",
   "execution_count": 38,
   "metadata": {},
   "outputs": [],
   "source": [
    "# setando data como índice\n",
    "carteiras.set_index('Data', inplace=True)"
   ]
  },
  {
   "cell_type": "code",
   "execution_count": 39,
   "metadata": {},
   "outputs": [],
   "source": [
    "# anualizando as taxas\n",
    "carteiras = (1 + carteiras)**(12) - 1"
   ]
  },
  {
   "cell_type": "code",
   "execution_count": 40,
   "metadata": {},
   "outputs": [
    {
     "data": {
      "text/html": [
       "<div>\n",
       "<style scoped>\n",
       "    .dataframe tbody tr th:only-of-type {\n",
       "        vertical-align: middle;\n",
       "    }\n",
       "\n",
       "    .dataframe tbody tr th {\n",
       "        vertical-align: top;\n",
       "    }\n",
       "\n",
       "    .dataframe thead th {\n",
       "        text-align: right;\n",
       "    }\n",
       "</style>\n",
       "<table border=\"1\" class=\"dataframe\">\n",
       "  <thead>\n",
       "    <tr style=\"text-align: right;\">\n",
       "      <th></th>\n",
       "      <th>p20</th>\n",
       "      <th>p40</th>\n",
       "      <th>p60</th>\n",
       "      <th>p80</th>\n",
       "      <th>p100</th>\n",
       "    </tr>\n",
       "    <tr>\n",
       "      <th>Data</th>\n",
       "      <th></th>\n",
       "      <th></th>\n",
       "      <th></th>\n",
       "      <th></th>\n",
       "      <th></th>\n",
       "    </tr>\n",
       "  </thead>\n",
       "  <tbody>\n",
       "    <tr>\n",
       "      <th>1995-01</th>\n",
       "      <td>NaN</td>\n",
       "      <td>NaN</td>\n",
       "      <td>NaN</td>\n",
       "      <td>NaN</td>\n",
       "      <td>NaN</td>\n",
       "    </tr>\n",
       "    <tr>\n",
       "      <th>1995-02</th>\n",
       "      <td>-0.185967</td>\n",
       "      <td>-0.586773</td>\n",
       "      <td>0.036600</td>\n",
       "      <td>-0.637101</td>\n",
       "      <td>-0.637101</td>\n",
       "    </tr>\n",
       "    <tr>\n",
       "      <th>1995-03</th>\n",
       "      <td>-0.721313</td>\n",
       "      <td>-0.505530</td>\n",
       "      <td>-0.655608</td>\n",
       "      <td>-0.698156</td>\n",
       "      <td>-0.713782</td>\n",
       "    </tr>\n",
       "    <tr>\n",
       "      <th>1995-04</th>\n",
       "      <td>-0.124300</td>\n",
       "      <td>-0.417233</td>\n",
       "      <td>-0.339724</td>\n",
       "      <td>-0.732271</td>\n",
       "      <td>-0.660098</td>\n",
       "    </tr>\n",
       "    <tr>\n",
       "      <th>1995-05</th>\n",
       "      <td>0.735243</td>\n",
       "      <td>0.715458</td>\n",
       "      <td>0.049070</td>\n",
       "      <td>0.442461</td>\n",
       "      <td>3.522272</td>\n",
       "    </tr>\n",
       "    <tr>\n",
       "      <th>...</th>\n",
       "      <td>...</td>\n",
       "      <td>...</td>\n",
       "      <td>...</td>\n",
       "      <td>...</td>\n",
       "      <td>...</td>\n",
       "    </tr>\n",
       "    <tr>\n",
       "      <th>2020-08</th>\n",
       "      <td>0.195618</td>\n",
       "      <td>0.735243</td>\n",
       "      <td>0.493642</td>\n",
       "      <td>0.459340</td>\n",
       "      <td>0.619604</td>\n",
       "    </tr>\n",
       "    <tr>\n",
       "      <th>2020-09</th>\n",
       "      <td>-0.035412</td>\n",
       "      <td>0.074424</td>\n",
       "      <td>-0.046958</td>\n",
       "      <td>0.238721</td>\n",
       "      <td>0.528682</td>\n",
       "    </tr>\n",
       "    <tr>\n",
       "      <th>2020-10</th>\n",
       "      <td>-0.306158</td>\n",
       "      <td>-0.155649</td>\n",
       "      <td>0.209830</td>\n",
       "      <td>0.298407</td>\n",
       "      <td>0.392892</td>\n",
       "    </tr>\n",
       "    <tr>\n",
       "      <th>2020-11</th>\n",
       "      <td>-0.224838</td>\n",
       "      <td>0.087311</td>\n",
       "      <td>-0.080840</td>\n",
       "      <td>0.100339</td>\n",
       "      <td>-0.899130</td>\n",
       "    </tr>\n",
       "    <tr>\n",
       "      <th>2020-12</th>\n",
       "      <td>2.692312</td>\n",
       "      <td>2.574847</td>\n",
       "      <td>0.195618</td>\n",
       "      <td>0.195618</td>\n",
       "      <td>0.329228</td>\n",
       "    </tr>\n",
       "  </tbody>\n",
       "</table>\n",
       "<p>312 rows × 5 columns</p>\n",
       "</div>"
      ],
      "text/plain": [
       "              p20       p40       p60       p80      p100\n",
       "Data                                                     \n",
       "1995-01       NaN       NaN       NaN       NaN       NaN\n",
       "1995-02 -0.185967 -0.586773  0.036600 -0.637101 -0.637101\n",
       "1995-03 -0.721313 -0.505530 -0.655608 -0.698156 -0.713782\n",
       "1995-04 -0.124300 -0.417233 -0.339724 -0.732271 -0.660098\n",
       "1995-05  0.735243  0.715458  0.049070  0.442461  3.522272\n",
       "...           ...       ...       ...       ...       ...\n",
       "2020-08  0.195618  0.735243  0.493642  0.459340  0.619604\n",
       "2020-09 -0.035412  0.074424 -0.046958  0.238721  0.528682\n",
       "2020-10 -0.306158 -0.155649  0.209830  0.298407  0.392892\n",
       "2020-11 -0.224838  0.087311 -0.080840  0.100339 -0.899130\n",
       "2020-12  2.692312  2.574847  0.195618  0.195618  0.329228\n",
       "\n",
       "[312 rows x 5 columns]"
      ]
     },
     "execution_count": 40,
     "metadata": {},
     "output_type": "execute_result"
    }
   ],
   "source": [
    "carteiras"
   ]
  },
  {
   "attachments": {},
   "cell_type": "markdown",
   "metadata": {},
   "source": [
    "### Nominal para Real\n"
   ]
  },
  {
   "attachments": {},
   "cell_type": "markdown",
   "metadata": {},
   "source": [
    "Para transformar taxas nominais em reais, precisamos utilizar a inflação e usar a seguinte formula:\n",
    "\n",
    "$$\n",
    "1+r = \\frac{1+i}{1+\\pi}\n",
    "$$\n",
    "\n",
    "onde $r$ é a taxa real, $i$ a taxa nominal e $\\pi$ a taxa de inflação."
   ]
  },
  {
   "attachments": {},
   "cell_type": "markdown",
   "metadata": {},
   "source": [
    "### Ibovespa real"
   ]
  },
  {
   "cell_type": "code",
   "execution_count": 41,
   "metadata": {},
   "outputs": [],
   "source": [
    "# unindo os dataframes do ibovespa com ipca\n",
    "ibov_real = pd.concat([ibov, ipca], axis=1, join=\"inner\")"
   ]
  },
  {
   "cell_type": "code",
   "execution_count": 42,
   "metadata": {},
   "outputs": [],
   "source": [
    "# transformando dados nominais em reais\n",
    "ibov_real['Ibovespa_Real'] = ((1+ibov_real['Ibovespa'])/(1+ibov_real['IPCA'])) - 1"
   ]
  },
  {
   "cell_type": "code",
   "execution_count": 43,
   "metadata": {},
   "outputs": [],
   "source": [
    "# deixando apenas os retornos do ibovespa real\n",
    "ibov_real = ibov_real[['Ibovespa_Real']]"
   ]
  },
  {
   "cell_type": "code",
   "execution_count": 44,
   "metadata": {},
   "outputs": [
    {
     "data": {
      "text/html": [
       "<div>\n",
       "<style scoped>\n",
       "    .dataframe tbody tr th:only-of-type {\n",
       "        vertical-align: middle;\n",
       "    }\n",
       "\n",
       "    .dataframe tbody tr th {\n",
       "        vertical-align: top;\n",
       "    }\n",
       "\n",
       "    .dataframe thead th {\n",
       "        text-align: right;\n",
       "    }\n",
       "</style>\n",
       "<table border=\"1\" class=\"dataframe\">\n",
       "  <thead>\n",
       "    <tr style=\"text-align: right;\">\n",
       "      <th></th>\n",
       "      <th>Ibovespa_Real</th>\n",
       "    </tr>\n",
       "    <tr>\n",
       "      <th>Data</th>\n",
       "      <th></th>\n",
       "    </tr>\n",
       "  </thead>\n",
       "  <tbody>\n",
       "    <tr>\n",
       "      <th>1995-01</th>\n",
       "      <td>NaN</td>\n",
       "    </tr>\n",
       "    <tr>\n",
       "      <th>1995-02</th>\n",
       "      <td>-0.640506</td>\n",
       "    </tr>\n",
       "    <tr>\n",
       "      <th>1995-03</th>\n",
       "      <td>-0.974004</td>\n",
       "    </tr>\n",
       "    <tr>\n",
       "      <th>1995-04</th>\n",
       "      <td>-0.492460</td>\n",
       "    </tr>\n",
       "    <tr>\n",
       "      <th>1995-05</th>\n",
       "      <td>22.263116</td>\n",
       "    </tr>\n",
       "    <tr>\n",
       "      <th>...</th>\n",
       "      <td>...</td>\n",
       "    </tr>\n",
       "    <tr>\n",
       "      <th>2022-08</th>\n",
       "      <td>0.542697</td>\n",
       "    </tr>\n",
       "    <tr>\n",
       "      <th>2022-09</th>\n",
       "      <td>1.608044</td>\n",
       "    </tr>\n",
       "    <tr>\n",
       "      <th>2022-10</th>\n",
       "      <td>0.709976</td>\n",
       "    </tr>\n",
       "    <tr>\n",
       "      <th>2022-11</th>\n",
       "      <td>0.033310</td>\n",
       "    </tr>\n",
       "    <tr>\n",
       "      <th>2022-12</th>\n",
       "      <td>-0.494164</td>\n",
       "    </tr>\n",
       "  </tbody>\n",
       "</table>\n",
       "<p>336 rows × 1 columns</p>\n",
       "</div>"
      ],
      "text/plain": [
       "         Ibovespa_Real\n",
       "Data                  \n",
       "1995-01            NaN\n",
       "1995-02      -0.640506\n",
       "1995-03      -0.974004\n",
       "1995-04      -0.492460\n",
       "1995-05      22.263116\n",
       "...                ...\n",
       "2022-08       0.542697\n",
       "2022-09       1.608044\n",
       "2022-10       0.709976\n",
       "2022-11       0.033310\n",
       "2022-12      -0.494164\n",
       "\n",
       "[336 rows x 1 columns]"
      ]
     },
     "execution_count": 44,
     "metadata": {},
     "output_type": "execute_result"
    }
   ],
   "source": [
    "ibov_real"
   ]
  },
  {
   "attachments": {},
   "cell_type": "markdown",
   "metadata": {},
   "source": [
    "### Ativo livre de risco real"
   ]
  },
  {
   "cell_type": "code",
   "execution_count": 45,
   "metadata": {},
   "outputs": [],
   "source": [
    "# unindo os dataframes da taxa livre de risco com o ipca\n",
    "bills_real = pd.concat([bills, ipca], axis=1, join=\"inner\")"
   ]
  },
  {
   "cell_type": "code",
   "execution_count": 46,
   "metadata": {},
   "outputs": [],
   "source": [
    "# deixando as taxas em termos reais\n",
    "bills_real['rf_Real'] = ((1+bills_real['rf'])/(1+bills_real['IPCA'])) - 1"
   ]
  },
  {
   "cell_type": "code",
   "execution_count": 47,
   "metadata": {},
   "outputs": [],
   "source": [
    "# deixando apenas a taxa livre de risco real\n",
    "bills_real = bills_real[['rf_Real']]"
   ]
  },
  {
   "cell_type": "code",
   "execution_count": 48,
   "metadata": {},
   "outputs": [
    {
     "data": {
      "text/html": [
       "<div>\n",
       "<style scoped>\n",
       "    .dataframe tbody tr th:only-of-type {\n",
       "        vertical-align: middle;\n",
       "    }\n",
       "\n",
       "    .dataframe tbody tr th {\n",
       "        vertical-align: top;\n",
       "    }\n",
       "\n",
       "    .dataframe thead th {\n",
       "        text-align: right;\n",
       "    }\n",
       "</style>\n",
       "<table border=\"1\" class=\"dataframe\">\n",
       "  <thead>\n",
       "    <tr style=\"text-align: right;\">\n",
       "      <th></th>\n",
       "      <th>rf_Real</th>\n",
       "    </tr>\n",
       "  </thead>\n",
       "  <tbody>\n",
       "    <tr>\n",
       "      <th>1995-01</th>\n",
       "      <td>0.163293</td>\n",
       "    </tr>\n",
       "    <tr>\n",
       "      <th>1995-02</th>\n",
       "      <td>0.298039</td>\n",
       "    </tr>\n",
       "    <tr>\n",
       "      <th>1995-03</th>\n",
       "      <td>0.244788</td>\n",
       "    </tr>\n",
       "    <tr>\n",
       "      <th>1995-04</th>\n",
       "      <td>0.383707</td>\n",
       "    </tr>\n",
       "    <tr>\n",
       "      <th>1995-05</th>\n",
       "      <td>0.161643</td>\n",
       "    </tr>\n",
       "    <tr>\n",
       "      <th>...</th>\n",
       "      <td>...</td>\n",
       "    </tr>\n",
       "    <tr>\n",
       "      <th>2022-04</th>\n",
       "      <td>-0.003679</td>\n",
       "    </tr>\n",
       "    <tr>\n",
       "      <th>2022-05</th>\n",
       "      <td>0.072284</td>\n",
       "    </tr>\n",
       "    <tr>\n",
       "      <th>2022-06</th>\n",
       "      <td>0.047388</td>\n",
       "    </tr>\n",
       "    <tr>\n",
       "      <th>2022-07</th>\n",
       "      <td>0.236665</td>\n",
       "    </tr>\n",
       "    <tr>\n",
       "      <th>2022-08</th>\n",
       "      <td>0.187759</td>\n",
       "    </tr>\n",
       "  </tbody>\n",
       "</table>\n",
       "<p>332 rows × 1 columns</p>\n",
       "</div>"
      ],
      "text/plain": [
       "          rf_Real\n",
       "1995-01  0.163293\n",
       "1995-02  0.298039\n",
       "1995-03  0.244788\n",
       "1995-04  0.383707\n",
       "1995-05  0.161643\n",
       "...           ...\n",
       "2022-04 -0.003679\n",
       "2022-05  0.072284\n",
       "2022-06  0.047388\n",
       "2022-07  0.236665\n",
       "2022-08  0.187759\n",
       "\n",
       "[332 rows x 1 columns]"
      ]
     },
     "execution_count": 48,
     "metadata": {},
     "output_type": "execute_result"
    }
   ],
   "source": [
    "bills_real"
   ]
  },
  {
   "attachments": {},
   "cell_type": "markdown",
   "metadata": {},
   "source": [
    "### Carteira de ações reais"
   ]
  },
  {
   "cell_type": "code",
   "execution_count": 49,
   "metadata": {},
   "outputs": [],
   "source": [
    "# unindo os dataframes das carteiras e o ipca\n",
    "carteiras_real = pd.concat([carteiras, ipca], axis=1, join=\"inner\")"
   ]
  },
  {
   "cell_type": "code",
   "execution_count": 50,
   "metadata": {},
   "outputs": [],
   "source": [
    "# deixando as carteiras em termos reais\n",
    "carteiras_real['p20_real'] = (1+carteiras_real['p20'])/(1+carteiras_real['IPCA']) - 1\n",
    "carteiras_real['p40_real'] = (1+carteiras_real['p40'])/(1+carteiras_real['IPCA']) - 1\n",
    "carteiras_real['p60_real'] = (1+carteiras_real['p60'])/(1+carteiras_real['IPCA']) - 1\n",
    "carteiras_real['p80_real'] = (1+carteiras_real['p80'])/(1+carteiras_real['IPCA']) - 1\n",
    "carteiras_real['p100_real'] = (1+carteiras_real['p100'])/(1+carteiras_real['IPCA']) - 1"
   ]
  },
  {
   "cell_type": "code",
   "execution_count": 51,
   "metadata": {},
   "outputs": [],
   "source": [
    "# ficando apenas com os retornos reais\n",
    "carteiras_real = carteiras_real[['p20_real', 'p40_real', 'p60_real', 'p80_real', 'p100_real']]"
   ]
  },
  {
   "cell_type": "code",
   "execution_count": 52,
   "metadata": {},
   "outputs": [
    {
     "data": {
      "text/html": [
       "<div>\n",
       "<style scoped>\n",
       "    .dataframe tbody tr th:only-of-type {\n",
       "        vertical-align: middle;\n",
       "    }\n",
       "\n",
       "    .dataframe tbody tr th {\n",
       "        vertical-align: top;\n",
       "    }\n",
       "\n",
       "    .dataframe thead th {\n",
       "        text-align: right;\n",
       "    }\n",
       "</style>\n",
       "<table border=\"1\" class=\"dataframe\">\n",
       "  <thead>\n",
       "    <tr style=\"text-align: right;\">\n",
       "      <th></th>\n",
       "      <th>p20_real</th>\n",
       "      <th>p40_real</th>\n",
       "      <th>p60_real</th>\n",
       "      <th>p80_real</th>\n",
       "      <th>p100_real</th>\n",
       "    </tr>\n",
       "    <tr>\n",
       "      <th>Data</th>\n",
       "      <th></th>\n",
       "      <th></th>\n",
       "      <th></th>\n",
       "      <th></th>\n",
       "      <th></th>\n",
       "    </tr>\n",
       "  </thead>\n",
       "  <tbody>\n",
       "    <tr>\n",
       "      <th>1995-01</th>\n",
       "      <td>NaN</td>\n",
       "      <td>NaN</td>\n",
       "      <td>NaN</td>\n",
       "      <td>NaN</td>\n",
       "      <td>NaN</td>\n",
       "    </tr>\n",
       "    <tr>\n",
       "      <th>1995-02</th>\n",
       "      <td>-0.279301</td>\n",
       "      <td>-0.634152</td>\n",
       "      <td>-0.082253</td>\n",
       "      <td>-0.678710</td>\n",
       "      <td>-0.678710</td>\n",
       "    </tr>\n",
       "    <tr>\n",
       "      <th>1995-03</th>\n",
       "      <td>-0.768283</td>\n",
       "      <td>-0.588868</td>\n",
       "      <td>-0.713652</td>\n",
       "      <td>-0.749029</td>\n",
       "      <td>-0.762021</td>\n",
       "    </tr>\n",
       "    <tr>\n",
       "      <th>1995-04</th>\n",
       "      <td>-0.343508</td>\n",
       "      <td>-0.563113</td>\n",
       "      <td>-0.505007</td>\n",
       "      <td>-0.799290</td>\n",
       "      <td>-0.745183</td>\n",
       "    </tr>\n",
       "    <tr>\n",
       "      <th>1995-05</th>\n",
       "      <td>0.264845</td>\n",
       "      <td>0.250424</td>\n",
       "      <td>-0.235316</td>\n",
       "      <td>0.051432</td>\n",
       "      <td>2.296354</td>\n",
       "    </tr>\n",
       "    <tr>\n",
       "      <th>...</th>\n",
       "      <td>...</td>\n",
       "      <td>...</td>\n",
       "      <td>...</td>\n",
       "      <td>...</td>\n",
       "      <td>...</td>\n",
       "    </tr>\n",
       "    <tr>\n",
       "      <th>2020-08</th>\n",
       "      <td>0.161716</td>\n",
       "      <td>0.686038</td>\n",
       "      <td>0.451289</td>\n",
       "      <td>0.417959</td>\n",
       "      <td>0.573679</td>\n",
       "    </tr>\n",
       "    <tr>\n",
       "      <th>2020-09</th>\n",
       "      <td>-0.106500</td>\n",
       "      <td>-0.004759</td>\n",
       "      <td>-0.117196</td>\n",
       "      <td>0.147429</td>\n",
       "      <td>0.416020</td>\n",
       "    </tr>\n",
       "    <tr>\n",
       "      <th>2020-10</th>\n",
       "      <td>-0.373915</td>\n",
       "      <td>-0.238104</td>\n",
       "      <td>0.091684</td>\n",
       "      <td>0.171610</td>\n",
       "      <td>0.256868</td>\n",
       "    </tr>\n",
       "    <tr>\n",
       "      <th>2020-11</th>\n",
       "      <td>-0.303029</td>\n",
       "      <td>-0.022366</td>\n",
       "      <td>-0.173556</td>\n",
       "      <td>-0.010652</td>\n",
       "      <td>-0.909305</td>\n",
       "    </tr>\n",
       "    <tr>\n",
       "      <th>2020-12</th>\n",
       "      <td>2.143499</td>\n",
       "      <td>2.043494</td>\n",
       "      <td>0.017906</td>\n",
       "      <td>0.017906</td>\n",
       "      <td>0.131656</td>\n",
       "    </tr>\n",
       "  </tbody>\n",
       "</table>\n",
       "<p>312 rows × 5 columns</p>\n",
       "</div>"
      ],
      "text/plain": [
       "         p20_real  p40_real  p60_real  p80_real  p100_real\n",
       "Data                                                      \n",
       "1995-01       NaN       NaN       NaN       NaN        NaN\n",
       "1995-02 -0.279301 -0.634152 -0.082253 -0.678710  -0.678710\n",
       "1995-03 -0.768283 -0.588868 -0.713652 -0.749029  -0.762021\n",
       "1995-04 -0.343508 -0.563113 -0.505007 -0.799290  -0.745183\n",
       "1995-05  0.264845  0.250424 -0.235316  0.051432   2.296354\n",
       "...           ...       ...       ...       ...        ...\n",
       "2020-08  0.161716  0.686038  0.451289  0.417959   0.573679\n",
       "2020-09 -0.106500 -0.004759 -0.117196  0.147429   0.416020\n",
       "2020-10 -0.373915 -0.238104  0.091684  0.171610   0.256868\n",
       "2020-11 -0.303029 -0.022366 -0.173556 -0.010652  -0.909305\n",
       "2020-12  2.143499  2.043494  0.017906  0.017906   0.131656\n",
       "\n",
       "[312 rows x 5 columns]"
      ]
     },
     "execution_count": 52,
     "metadata": {},
     "output_type": "execute_result"
    }
   ],
   "source": [
    "carteiras_real"
   ]
  },
  {
   "attachments": {},
   "cell_type": "markdown",
   "metadata": {},
   "source": [
    "### Juntando os dados"
   ]
  },
  {
   "cell_type": "code",
   "execution_count": 53,
   "metadata": {},
   "outputs": [],
   "source": [
    "df = pd.concat([ibov_real, bills_real, carteiras_real], axis=1, join=\"inner\")"
   ]
  },
  {
   "cell_type": "code",
   "execution_count": 54,
   "metadata": {},
   "outputs": [
    {
     "data": {
      "text/html": [
       "<div>\n",
       "<style scoped>\n",
       "    .dataframe tbody tr th:only-of-type {\n",
       "        vertical-align: middle;\n",
       "    }\n",
       "\n",
       "    .dataframe tbody tr th {\n",
       "        vertical-align: top;\n",
       "    }\n",
       "\n",
       "    .dataframe thead th {\n",
       "        text-align: right;\n",
       "    }\n",
       "</style>\n",
       "<table border=\"1\" class=\"dataframe\">\n",
       "  <thead>\n",
       "    <tr style=\"text-align: right;\">\n",
       "      <th></th>\n",
       "      <th>Ibovespa_Real</th>\n",
       "      <th>rf_Real</th>\n",
       "      <th>p20_real</th>\n",
       "      <th>p40_real</th>\n",
       "      <th>p60_real</th>\n",
       "      <th>p80_real</th>\n",
       "      <th>p100_real</th>\n",
       "    </tr>\n",
       "  </thead>\n",
       "  <tbody>\n",
       "    <tr>\n",
       "      <th>1995-01</th>\n",
       "      <td>NaN</td>\n",
       "      <td>0.163293</td>\n",
       "      <td>NaN</td>\n",
       "      <td>NaN</td>\n",
       "      <td>NaN</td>\n",
       "      <td>NaN</td>\n",
       "      <td>NaN</td>\n",
       "    </tr>\n",
       "    <tr>\n",
       "      <th>1995-02</th>\n",
       "      <td>-0.640506</td>\n",
       "      <td>0.298039</td>\n",
       "      <td>-0.279301</td>\n",
       "      <td>-0.634152</td>\n",
       "      <td>-0.082253</td>\n",
       "      <td>-0.678710</td>\n",
       "      <td>-0.678710</td>\n",
       "    </tr>\n",
       "    <tr>\n",
       "      <th>1995-03</th>\n",
       "      <td>-0.974004</td>\n",
       "      <td>0.244788</td>\n",
       "      <td>-0.768283</td>\n",
       "      <td>-0.588868</td>\n",
       "      <td>-0.713652</td>\n",
       "      <td>-0.749029</td>\n",
       "      <td>-0.762021</td>\n",
       "    </tr>\n",
       "    <tr>\n",
       "      <th>1995-04</th>\n",
       "      <td>-0.492460</td>\n",
       "      <td>0.383707</td>\n",
       "      <td>-0.343508</td>\n",
       "      <td>-0.563113</td>\n",
       "      <td>-0.505007</td>\n",
       "      <td>-0.799290</td>\n",
       "      <td>-0.745183</td>\n",
       "    </tr>\n",
       "    <tr>\n",
       "      <th>1995-05</th>\n",
       "      <td>22.263116</td>\n",
       "      <td>0.161643</td>\n",
       "      <td>0.264845</td>\n",
       "      <td>0.250424</td>\n",
       "      <td>-0.235316</td>\n",
       "      <td>0.051432</td>\n",
       "      <td>2.296354</td>\n",
       "    </tr>\n",
       "    <tr>\n",
       "      <th>...</th>\n",
       "      <td>...</td>\n",
       "      <td>...</td>\n",
       "      <td>...</td>\n",
       "      <td>...</td>\n",
       "      <td>...</td>\n",
       "      <td>...</td>\n",
       "      <td>...</td>\n",
       "    </tr>\n",
       "    <tr>\n",
       "      <th>2020-08</th>\n",
       "      <td>1.161135</td>\n",
       "      <td>-0.006740</td>\n",
       "      <td>0.161716</td>\n",
       "      <td>0.686038</td>\n",
       "      <td>0.451289</td>\n",
       "      <td>0.417959</td>\n",
       "      <td>0.573679</td>\n",
       "    </tr>\n",
       "    <tr>\n",
       "      <th>2020-09</th>\n",
       "      <td>-0.142778</td>\n",
       "      <td>-0.053279</td>\n",
       "      <td>-0.106500</td>\n",
       "      <td>-0.004759</td>\n",
       "      <td>-0.117196</td>\n",
       "      <td>0.147429</td>\n",
       "      <td>0.416020</td>\n",
       "    </tr>\n",
       "    <tr>\n",
       "      <th>2020-10</th>\n",
       "      <td>-0.599606</td>\n",
       "      <td>-0.069593</td>\n",
       "      <td>-0.373915</td>\n",
       "      <td>-0.238104</td>\n",
       "      <td>0.091684</td>\n",
       "      <td>0.171610</td>\n",
       "      <td>0.256868</td>\n",
       "    </tr>\n",
       "    <tr>\n",
       "      <th>2020-11</th>\n",
       "      <td>-0.088589</td>\n",
       "      <td>-0.081766</td>\n",
       "      <td>-0.303029</td>\n",
       "      <td>-0.022366</td>\n",
       "      <td>-0.173556</td>\n",
       "      <td>-0.010652</td>\n",
       "      <td>-0.909305</td>\n",
       "    </tr>\n",
       "    <tr>\n",
       "      <th>2020-12</th>\n",
       "      <td>4.307739</td>\n",
       "      <td>-0.131579</td>\n",
       "      <td>2.143499</td>\n",
       "      <td>2.043494</td>\n",
       "      <td>0.017906</td>\n",
       "      <td>0.017906</td>\n",
       "      <td>0.131656</td>\n",
       "    </tr>\n",
       "  </tbody>\n",
       "</table>\n",
       "<p>312 rows × 7 columns</p>\n",
       "</div>"
      ],
      "text/plain": [
       "         Ibovespa_Real   rf_Real  p20_real  p40_real  p60_real  p80_real  \\\n",
       "1995-01            NaN  0.163293       NaN       NaN       NaN       NaN   \n",
       "1995-02      -0.640506  0.298039 -0.279301 -0.634152 -0.082253 -0.678710   \n",
       "1995-03      -0.974004  0.244788 -0.768283 -0.588868 -0.713652 -0.749029   \n",
       "1995-04      -0.492460  0.383707 -0.343508 -0.563113 -0.505007 -0.799290   \n",
       "1995-05      22.263116  0.161643  0.264845  0.250424 -0.235316  0.051432   \n",
       "...                ...       ...       ...       ...       ...       ...   \n",
       "2020-08       1.161135 -0.006740  0.161716  0.686038  0.451289  0.417959   \n",
       "2020-09      -0.142778 -0.053279 -0.106500 -0.004759 -0.117196  0.147429   \n",
       "2020-10      -0.599606 -0.069593 -0.373915 -0.238104  0.091684  0.171610   \n",
       "2020-11      -0.088589 -0.081766 -0.303029 -0.022366 -0.173556 -0.010652   \n",
       "2020-12       4.307739 -0.131579  2.143499  2.043494  0.017906  0.017906   \n",
       "\n",
       "         p100_real  \n",
       "1995-01        NaN  \n",
       "1995-02  -0.678710  \n",
       "1995-03  -0.762021  \n",
       "1995-04  -0.745183  \n",
       "1995-05   2.296354  \n",
       "...            ...  \n",
       "2020-08   0.573679  \n",
       "2020-09   0.416020  \n",
       "2020-10   0.256868  \n",
       "2020-11  -0.909305  \n",
       "2020-12   0.131656  \n",
       "\n",
       "[312 rows x 7 columns]"
      ]
     },
     "execution_count": 54,
     "metadata": {},
     "output_type": "execute_result"
    }
   ],
   "source": [
    "df"
   ]
  },
  {
   "attachments": {},
   "cell_type": "markdown",
   "metadata": {},
   "source": [
    "#### Problema 1. \n",
    "Usando a abordagem de séries amostrais e supondo que o Ibovespa é a carteira de mercado, teste o CAPM usando como asset tests as 5 carteiras formadas pelo ordenamento do market cap. Nesse teste, a taxa sem risco deve ser a taxa de retorno mensal (anualizada) de LTNs de um mês.\n",
    "Testado o modelo, o próximo passo é visualizar o teste através de um gráfico. Para tanto, obtenha, para cada carteira, o par da média do seu prêmio (retorno da carteira menos taxa sem risco) no período amostral e do beta estimado pela regressão da abordagem de série de tempo. Plote um gráfico com os cinco pares de observações e a reta prevista pelo modelo, \n",
    "\n",
    "$$\n",
    "\\mathbb{E}\\left[R^i\\right]-R^0=\\beta\\left(\\mathbb{E}\\left[R^M\\right]-R^0\\right)\n",
    "$$\n",
    "\n",
    "sendo a inclinação da reta determinada pelo prêmio médio do mercado na amostra. Qual é a carteira cujo retorno esperado é mais bem explicado pelo $\\beta$ ? Qual é a carteira que o CAPM prevê com menor precisão o retorno esperado? Explique as suas respostas."
   ]
  },
  {
   "cell_type": "code",
   "execution_count": 55,
   "metadata": {},
   "outputs": [],
   "source": [
    "ols = pd.DataFrame()"
   ]
  },
  {
   "cell_type": "code",
   "execution_count": 56,
   "metadata": {},
   "outputs": [],
   "source": [
    "ols['y'] = df['p20_real'] - df['rf_Real']\n",
    "ols['x'] = df['Ibovespa_Real'] - df['rf_Real']\n",
    "result = sm.ols(formula=\"y ~ x\", data=ols).fit()"
   ]
  },
  {
   "cell_type": "code",
   "execution_count": 57,
   "metadata": {},
   "outputs": [
    {
     "name": "stdout",
     "output_type": "stream",
     "text": [
      "                            OLS Regression Results                            \n",
      "==============================================================================\n",
      "Dep. Variable:                      y   R-squared:                       0.056\n",
      "Model:                            OLS   Adj. R-squared:                  0.053\n",
      "Method:                 Least Squares   F-statistic:                     18.48\n",
      "Date:                Tue, 13 Dec 2022   Prob (F-statistic):           2.30e-05\n",
      "Time:                        18:11:07   Log-Likelihood:                -616.11\n",
      "No. Observations:                 311   AIC:                             1236.\n",
      "Df Residuals:                     309   BIC:                             1244.\n",
      "Df Model:                           1                                         \n",
      "Covariance Type:            nonrobust                                         \n",
      "==============================================================================\n",
      "                 coef    std err          t      P>|t|      [0.025      0.975]\n",
      "------------------------------------------------------------------------------\n",
      "Intercept      0.4466      0.104      4.296      0.000       0.242       0.651\n",
      "x              0.1860      0.043      4.299      0.000       0.101       0.271\n",
      "==============================================================================\n",
      "Omnibus:                      267.040   Durbin-Watson:                   1.387\n",
      "Prob(Omnibus):                  0.000   Jarque-Bera (JB):             4639.738\n",
      "Skew:                           3.564   Prob(JB):                         0.00\n",
      "Kurtosis:                      20.528   Cond. No.                         2.54\n",
      "==============================================================================\n",
      "\n",
      "Notes:\n",
      "[1] Standard Errors assume that the covariance matrix of the errors is correctly specified.\n"
     ]
    }
   ],
   "source": [
    "print(result.summary())"
   ]
  },
  {
   "attachments": {},
   "cell_type": "markdown",
   "metadata": {},
   "source": [
    "O teste sobre o modelo pode ser verificado em cima do coeficiente do intercepto $\\alpha$. No caso de $\\alpha = 0$, há um bom ajuste dos dados ao modelo do CAPM. A estatística $t = 4.296$ com um p-value $= 0.000$ nos diz que o intercepto é estatísticamente diferente de 0 para níveis de significância usuais. Isso significa que não há um bom ajuste dos dados ao modelo CAPM."
   ]
  },
  {
   "cell_type": "code",
   "execution_count": 58,
   "metadata": {},
   "outputs": [],
   "source": [
    "beta20 = result.params[1]\n",
    "m20 = (df['p20_real'] - df['rf_Real']).mean()"
   ]
  },
  {
   "cell_type": "code",
   "execution_count": 59,
   "metadata": {},
   "outputs": [],
   "source": [
    "# visualização melhor de gráficos\n",
    "sns.set(rc={'figure.figsize':(12,8)});"
   ]
  },
  {
   "cell_type": "code",
   "execution_count": 60,
   "metadata": {},
   "outputs": [
    {
     "data": {
      "text/plain": [
       "Text(0.5, 1.0, 'Carteira do Primeiro Percentil')"
      ]
     },
     "execution_count": 60,
     "metadata": {},
     "output_type": "execute_result"
    },
    {
     "data": {
      "image/png": "[encoded data removed]",
      "text/plain": [
       "<Figure size 864x576 with 1 Axes>"
      ]
     },
     "metadata": {},
     "output_type": "display_data"
    }
   ],
   "source": [
    "# Gráfico da carteira do primeiro percentil\n",
    "sns.regplot(data=ols, x='x', y='y', scatter_kws={\"color\": \"black\"}, line_kws={\"color\": \"red\"}).set_title('Carteira do Primeiro Percentil')"
   ]
  },
  {
   "cell_type": "code",
   "execution_count": 61,
   "metadata": {},
   "outputs": [],
   "source": [
    "ols['y'] = df['p40_real'] - df['rf_Real']\n",
    "ols['x'] = df['Ibovespa_Real'] - df['rf_Real']\n",
    "result = sm.ols(formula=\"y ~ x\", data=ols).fit()"
   ]
  },
  {
   "cell_type": "code",
   "execution_count": 62,
   "metadata": {},
   "outputs": [
    {
     "name": "stdout",
     "output_type": "stream",
     "text": [
      "                            OLS Regression Results                            \n",
      "==============================================================================\n",
      "Dep. Variable:                      y   R-squared:                       0.156\n",
      "Model:                            OLS   Adj. R-squared:                  0.153\n",
      "Method:                 Least Squares   F-statistic:                     57.17\n",
      "Date:                Tue, 13 Dec 2022   Prob (F-statistic):           4.59e-13\n",
      "Time:                        18:11:09   Log-Likelihood:                -476.92\n",
      "No. Observations:                 311   AIC:                             957.8\n",
      "Df Residuals:                     309   BIC:                             965.3\n",
      "Df Model:                           1                                         \n",
      "Covariance Type:            nonrobust                                         \n",
      "==============================================================================\n",
      "                 coef    std err          t      P>|t|      [0.025      0.975]\n",
      "------------------------------------------------------------------------------\n",
      "Intercept      0.2064      0.066      3.106      0.002       0.076       0.337\n",
      "x              0.2092      0.028      7.561      0.000       0.155       0.264\n",
      "==============================================================================\n",
      "Omnibus:                      222.129   Durbin-Watson:                   1.502\n",
      "Prob(Omnibus):                  0.000   Jarque-Bera (JB):             3622.002\n",
      "Skew:                           2.718   Prob(JB):                         0.00\n",
      "Kurtosis:                      18.810   Cond. No.                         2.54\n",
      "==============================================================================\n",
      "\n",
      "Notes:\n",
      "[1] Standard Errors assume that the covariance matrix of the errors is correctly specified.\n"
     ]
    }
   ],
   "source": [
    "print(result.summary())"
   ]
  },
  {
   "attachments": {},
   "cell_type": "markdown",
   "metadata": {},
   "source": [
    "A estatística $t = 3.106$ com um p-value $= 0.002$ nos diz que o intercepto é estatísticamente diferente de 0 para níveis usuais de significância. Isso significa que não há um bom ajuste dos dados ao modelo CAPM."
   ]
  },
  {
   "cell_type": "code",
   "execution_count": 63,
   "metadata": {},
   "outputs": [],
   "source": [
    "beta40 = result.params[1]\n",
    "m40 = (df['p40_real'] - df['rf_Real']).mean()"
   ]
  },
  {
   "cell_type": "code",
   "execution_count": 64,
   "metadata": {},
   "outputs": [
    {
     "data": {
      "text/plain": [
       "Text(0.5, 1.0, 'Carteira do Segundo Percentil')"
      ]
     },
     "execution_count": 64,
     "metadata": {},
     "output_type": "execute_result"
    },
    {
     "data": {
      "image/png": "[encoded data removed]",
      "text/plain": [
       "<Figure size 864x576 with 1 Axes>"
      ]
     },
     "metadata": {},
     "output_type": "display_data"
    }
   ],
   "source": [
    "# Gráfico da carteira do segundo percentil\n",
    "sns.regplot(data=ols, x='x', y='y', scatter_kws={\"color\": \"black\"}, line_kws={\"color\": \"red\"}).set_title('Carteira do Segundo Percentil')"
   ]
  },
  {
   "cell_type": "code",
   "execution_count": 65,
   "metadata": {},
   "outputs": [],
   "source": [
    "ols['y'] = df['p60_real'] - df['rf_Real']\n",
    "ols['x'] = df['Ibovespa_Real'] - df['rf_Real']\n",
    "result = sm.ols(formula=\"y ~ x\", data=ols).fit()"
   ]
  },
  {
   "cell_type": "code",
   "execution_count": 66,
   "metadata": {},
   "outputs": [
    {
     "name": "stdout",
     "output_type": "stream",
     "text": [
      "                            OLS Regression Results                            \n",
      "==============================================================================\n",
      "Dep. Variable:                      y   R-squared:                       0.185\n",
      "Model:                            OLS   Adj. R-squared:                  0.182\n",
      "Method:                 Least Squares   F-statistic:                     70.15\n",
      "Date:                Tue, 13 Dec 2022   Prob (F-statistic):           1.95e-15\n",
      "Time:                        18:11:10   Log-Likelihood:                -536.21\n",
      "No. Observations:                 311   AIC:                             1076.\n",
      "Df Residuals:                     309   BIC:                             1084.\n",
      "Df Model:                           1                                         \n",
      "Covariance Type:            nonrobust                                         \n",
      "==============================================================================\n",
      "                 coef    std err          t      P>|t|      [0.025      0.975]\n",
      "------------------------------------------------------------------------------\n",
      "Intercept      0.1453      0.080      1.806      0.072      -0.013       0.304\n",
      "x              0.2803      0.033      8.376      0.000       0.214       0.346\n",
      "==============================================================================\n",
      "Omnibus:                      359.671   Durbin-Watson:                   1.665\n",
      "Prob(Omnibus):                  0.000   Jarque-Bera (JB):            36483.222\n",
      "Skew:                           4.792   Prob(JB):                         0.00\n",
      "Kurtosis:                      55.188   Cond. No.                         2.54\n",
      "==============================================================================\n",
      "\n",
      "Notes:\n",
      "[1] Standard Errors assume that the covariance matrix of the errors is correctly specified.\n"
     ]
    }
   ],
   "source": [
    "print(result.summary())"
   ]
  },
  {
   "attachments": {},
   "cell_type": "markdown",
   "metadata": {},
   "source": [
    "A estatística $t = 1.806$ com um p-value $= 0.072$ nos diz que o intercepto não é estatísticamente diferente de 0 para um nível de significância de 5%."
   ]
  },
  {
   "cell_type": "code",
   "execution_count": 67,
   "metadata": {},
   "outputs": [],
   "source": [
    "beta60 = result.params[1]\n",
    "m60 = (df['p60_real'] - df['rf_Real']).mean()"
   ]
  },
  {
   "cell_type": "code",
   "execution_count": 68,
   "metadata": {},
   "outputs": [
    {
     "data": {
      "text/plain": [
       "Text(0.5, 1.0, 'Carteira do Terceiro Percentil')"
      ]
     },
     "execution_count": 68,
     "metadata": {},
     "output_type": "execute_result"
    },
    {
     "data": {
      "image/png": "[encoded data removed]",
      "text/plain": [
       "<Figure size 864x576 with 1 Axes>"
      ]
     },
     "metadata": {},
     "output_type": "display_data"
    }
   ],
   "source": [
    "# Gráfico da carteira do terceiro percentil\n",
    "sns.regplot(data=ols, x='x', y='y', scatter_kws={\"color\": \"black\"}, line_kws={\"color\": \"red\"}).set_title('Carteira do Terceiro Percentil')"
   ]
  },
  {
   "cell_type": "code",
   "execution_count": 69,
   "metadata": {},
   "outputs": [],
   "source": [
    "ols['y'] = df['p80_real'] - df['rf_Real']\n",
    "ols['x'] = df['Ibovespa_Real'] - df['rf_Real']\n",
    "result = sm.ols(formula=\"y ~ x\", data=ols).fit()"
   ]
  },
  {
   "cell_type": "code",
   "execution_count": 70,
   "metadata": {},
   "outputs": [
    {
     "name": "stdout",
     "output_type": "stream",
     "text": [
      "                            OLS Regression Results                            \n",
      "==============================================================================\n",
      "Dep. Variable:                      y   R-squared:                       0.289\n",
      "Model:                            OLS   Adj. R-squared:                  0.287\n",
      "Method:                 Least Squares   F-statistic:                     125.8\n",
      "Date:                Tue, 13 Dec 2022   Prob (F-statistic):           1.02e-24\n",
      "Time:                        18:11:11   Log-Likelihood:                -462.75\n",
      "No. Observations:                 311   AIC:                             929.5\n",
      "Df Residuals:                     309   BIC:                             937.0\n",
      "Df Model:                           1                                         \n",
      "Covariance Type:            nonrobust                                         \n",
      "==============================================================================\n",
      "                 coef    std err          t      P>|t|      [0.025      0.975]\n",
      "------------------------------------------------------------------------------\n",
      "Intercept      0.0832      0.063      1.311      0.191      -0.042       0.208\n",
      "x              0.2964      0.026     11.215      0.000       0.244       0.348\n",
      "==============================================================================\n",
      "Omnibus:                      215.360   Durbin-Watson:                   1.602\n",
      "Prob(Omnibus):                  0.000   Jarque-Bera (JB):             7220.276\n",
      "Skew:                           2.309   Prob(JB):                         0.00\n",
      "Kurtosis:                      26.149   Cond. No.                         2.54\n",
      "==============================================================================\n",
      "\n",
      "Notes:\n",
      "[1] Standard Errors assume that the covariance matrix of the errors is correctly specified.\n"
     ]
    }
   ],
   "source": [
    "print(result.summary())"
   ]
  },
  {
   "attachments": {},
   "cell_type": "markdown",
   "metadata": {},
   "source": [
    "A estatística $t = 1.311$ com um p-value $= 0.191$ nos diz que o intercepto não é estatísticamente diferente de 0 para quaisquer níveis de significância usuais. Isso significa que há um bom ajuste ao modelo CAPM."
   ]
  },
  {
   "cell_type": "code",
   "execution_count": 71,
   "metadata": {},
   "outputs": [],
   "source": [
    "beta80 = result.params[1]\n",
    "m80 = (df['p80_real'] - df['rf_Real']).mean()"
   ]
  },
  {
   "cell_type": "code",
   "execution_count": 72,
   "metadata": {},
   "outputs": [
    {
     "data": {
      "text/plain": [
       "Text(0.5, 1.0, 'Carteira do Quarto Percentil')"
      ]
     },
     "execution_count": 72,
     "metadata": {},
     "output_type": "execute_result"
    },
    {
     "data": {
      "image/png": "[encoded data removed]",
      "text/plain": [
       "<Figure size 864x576 with 1 Axes>"
      ]
     },
     "metadata": {},
     "output_type": "display_data"
    }
   ],
   "source": [
    "# Gráfico da carteira do quarto percentil\n",
    "sns.regplot(data=ols, x='x', y='y', scatter_kws={\"color\": \"black\"}, line_kws={\"color\": \"red\"}).set_title('Carteira do Quarto Percentil')"
   ]
  },
  {
   "cell_type": "code",
   "execution_count": 73,
   "metadata": {},
   "outputs": [],
   "source": [
    "ols['y'] = df['p100_real'] - df['rf_Real']\n",
    "ols['x'] = df['Ibovespa_Real'] - df['rf_Real']\n",
    "result = sm.ols(formula=\"y ~ x\", data=ols).fit()"
   ]
  },
  {
   "cell_type": "code",
   "execution_count": 74,
   "metadata": {},
   "outputs": [
    {
     "name": "stdout",
     "output_type": "stream",
     "text": [
      "                            OLS Regression Results                            \n",
      "==============================================================================\n",
      "Dep. Variable:                      y   R-squared:                       0.458\n",
      "Model:                            OLS   Adj. R-squared:                  0.456\n",
      "Method:                 Least Squares   F-statistic:                     261.2\n",
      "Date:                Tue, 13 Dec 2022   Prob (F-statistic):           5.23e-43\n",
      "Time:                        18:11:12   Log-Likelihood:                -417.73\n",
      "No. Observations:                 311   AIC:                             839.5\n",
      "Df Residuals:                     309   BIC:                             846.9\n",
      "Df Model:                           1                                         \n",
      "Covariance Type:            nonrobust                                         \n",
      "==============================================================================\n",
      "                 coef    std err          t      P>|t|      [0.025      0.975]\n",
      "------------------------------------------------------------------------------\n",
      "Intercept      0.0576      0.055      1.049      0.295      -0.050       0.166\n",
      "x              0.3696      0.023     16.161      0.000       0.325       0.415\n",
      "==============================================================================\n",
      "Omnibus:                       88.617   Durbin-Watson:                   1.964\n",
      "Prob(Omnibus):                  0.000   Jarque-Bera (JB):             1624.256\n",
      "Skew:                           0.618   Prob(JB):                         0.00\n",
      "Kurtosis:                      14.127   Cond. No.                         2.54\n",
      "==============================================================================\n",
      "\n",
      "Notes:\n",
      "[1] Standard Errors assume that the covariance matrix of the errors is correctly specified.\n"
     ]
    }
   ],
   "source": [
    "print(result.summary())"
   ]
  },
  {
   "attachments": {},
   "cell_type": "markdown",
   "metadata": {},
   "source": [
    "A estatística $t = 1.049$ com um p-value $= 0.295$ nos diz que o intercepto não é estatísticamente diferente de 0 para quaisquer níveis de significância usuais. Isso significa que há um bom ajuste ao modelo CAPM."
   ]
  },
  {
   "cell_type": "code",
   "execution_count": 75,
   "metadata": {},
   "outputs": [],
   "source": [
    "beta100 = result.params[1]\n",
    "m100 = (df['p100_real'] - df['rf_Real']).mean()"
   ]
  },
  {
   "cell_type": "code",
   "execution_count": 76,
   "metadata": {},
   "outputs": [
    {
     "data": {
      "text/plain": [
       "Text(0.5, 1.0, 'Carteira do Quinto Percentil')"
      ]
     },
     "execution_count": 76,
     "metadata": {},
     "output_type": "execute_result"
    },
    {
     "data": {
      "image/png": "[encoded data removed]",
      "text/plain": [
       "<Figure size 864x576 with 1 Axes>"
      ]
     },
     "metadata": {},
     "output_type": "display_data"
    }
   ],
   "source": [
    "# Gráfico da carteira do quinto percentil\n",
    "sns.regplot(data=ols, x='x', y='y', scatter_kws={\"color\": \"black\"}, line_kws={\"color\": \"red\"}).set_title('Carteira do Quinto Percentil')"
   ]
  },
  {
   "cell_type": "code",
   "execution_count": 77,
   "metadata": {},
   "outputs": [],
   "source": [
    "betas = [beta20, beta40, beta60, beta80, beta100]\n",
    "excesso_retornos = [m20, m40, m60, m80, m100]\n",
    "betas_capm = {'Excesso de Retorno': excesso_retornos, 'Beta': betas}\n",
    "betas_capm = pd.DataFrame(data=betas_capm, index= ['carteira20', 'carteira40', 'carteira60', 'carteira80', 'carteira100'])"
   ]
  },
  {
   "cell_type": "code",
   "execution_count": 78,
   "metadata": {},
   "outputs": [],
   "source": [
    "media_excesso_retorno_mercado = (df['Ibovespa_Real'] - df['rf_Real']).mean()"
   ]
  },
  {
   "cell_type": "code",
   "execution_count": 79,
   "metadata": {},
   "outputs": [],
   "source": [
    "beta = np.linspace(0, 0.5, 300)"
   ]
  },
  {
   "cell_type": "code",
   "execution_count": 80,
   "metadata": {},
   "outputs": [],
   "source": [
    "line_capm = media_excesso_retorno_mercado*beta"
   ]
  },
  {
   "cell_type": "code",
   "execution_count": 81,
   "metadata": {},
   "outputs": [
    {
     "data": {
      "text/html": [
       "<div>\n",
       "<style scoped>\n",
       "    .dataframe tbody tr th:only-of-type {\n",
       "        vertical-align: middle;\n",
       "    }\n",
       "\n",
       "    .dataframe tbody tr th {\n",
       "        vertical-align: top;\n",
       "    }\n",
       "\n",
       "    .dataframe thead th {\n",
       "        text-align: right;\n",
       "    }\n",
       "</style>\n",
       "<table border=\"1\" class=\"dataframe\">\n",
       "  <thead>\n",
       "    <tr style=\"text-align: right;\">\n",
       "      <th></th>\n",
       "      <th>Excesso de Retorno</th>\n",
       "      <th>Beta</th>\n",
       "    </tr>\n",
       "  </thead>\n",
       "  <tbody>\n",
       "    <tr>\n",
       "      <th>carteira20</th>\n",
       "      <td>0.571952</td>\n",
       "      <td>0.186044</td>\n",
       "    </tr>\n",
       "    <tr>\n",
       "      <th>carteira40</th>\n",
       "      <td>0.347307</td>\n",
       "      <td>0.209152</td>\n",
       "    </tr>\n",
       "    <tr>\n",
       "      <th>carteira60</th>\n",
       "      <td>0.334106</td>\n",
       "      <td>0.280335</td>\n",
       "    </tr>\n",
       "    <tr>\n",
       "      <th>carteira80</th>\n",
       "      <td>0.282876</td>\n",
       "      <td>0.296395</td>\n",
       "    </tr>\n",
       "    <tr>\n",
       "      <th>carteira100</th>\n",
       "      <td>0.306566</td>\n",
       "      <td>0.369560</td>\n",
       "    </tr>\n",
       "  </tbody>\n",
       "</table>\n",
       "</div>"
      ],
      "text/plain": [
       "             Excesso de Retorno      Beta\n",
       "carteira20             0.571952  0.186044\n",
       "carteira40             0.347307  0.209152\n",
       "carteira60             0.334106  0.280335\n",
       "carteira80             0.282876  0.296395\n",
       "carteira100            0.306566  0.369560"
      ]
     },
     "execution_count": 81,
     "metadata": {},
     "output_type": "execute_result"
    }
   ],
   "source": [
    "betas_capm"
   ]
  },
  {
   "cell_type": "code",
   "execution_count": 82,
   "metadata": {},
   "outputs": [
    {
     "data": {
      "image/png": "[encoded data removed]",
      "text/plain": [
       "<Figure size 720x720 with 1 Axes>"
      ]
     },
     "metadata": {},
     "output_type": "display_data"
    }
   ],
   "source": [
    "g = sns.FacetGrid(betas_capm, height = 10)\n",
    "g = g.map(plt.scatter, \"Beta\",\"Excesso de Retorno\", edgecolor=\"w\")\n",
    "for idx, row in betas_capm.iterrows(): \n",
    "    plt.text(row['Beta'], row['Excesso de Retorno'], idx)\n",
    "plt.plot(beta, line_capm, color='r')\n",
    "plt.title('Capital Asset Pricing Model')\n",
    "plt.show()"
   ]
  },
  {
   "attachments": {},
   "cell_type": "markdown",
   "metadata": {},
   "source": [
    "Assim como os resultados nos testes, o gráfico mostra que os pontos das carteiras cujo Market cap é menor estão mais longe da linha de regressão do CAPM."
   ]
  },
  {
   "attachments": {},
   "cell_type": "markdown",
   "metadata": {},
   "source": [
    "#### Problema 2. \n",
    "Usando a abordagem do cross-section e supondo que o Ibovespa é a carteira de mercado, teste o CAPM usando como test assets as 5 carteiras formadas pelo ordenamento do market cap. Nesse teste, a taxa sem risco deve ser a taxa de retorno mensal (anualizada) de LTNs de um mês.\n",
    "Testado o modelo, o próximo passo é visualizar o teste através de um gráfico. Para tanto, obtenha, para cada carteira, o par da média do seu prêmio (retorno da carteira menos taxa sem risco) no período amostral e do beta estimado pelo teste da abordagem do cross-section. Plote um gráfico com os cinco pares de observações e a reta prevista pelo modelo, \n",
    "\n",
    "$$\n",
    "E\\left[R^i\\right]-R^0=\\beta \\hat{\\lambda}_M\n",
    "$$\n",
    "sendo a inclinação da reta determina pela estimativa de $\\hat{\\lambda}_M$ na regressão do cross-section. Qual é a carteira cujo retorno esperado é mais bem explicado pelo $\\beta$ ? Qual é a carteira que o CAPM prevê com menor precisão o retorno esperado? Explique as suas respostas."
   ]
  },
  {
   "attachments": {},
   "cell_type": "markdown",
   "metadata": {},
   "source": [
    "O modelos nada mais é do que\n",
    "\n",
    "$$\n",
    "\\sum_{t=0}^T\\left\\{\\frac{R_t^i-R_t^0}{T}\\right\\}=\\hat{\\beta}_{i 1} \\lambda_1+u_i\n",
    "$$\n",
    "\n",
    "Isso significa que a variável explicada agora é o excesso de retorno médio de cada carteira, e agora a variável explicativa é o $\\hat{\\beta}$ estimado nas regressões do Problema (1)."
   ]
  },
  {
   "cell_type": "code",
   "execution_count": 83,
   "metadata": {},
   "outputs": [],
   "source": [
    "ols = pd.DataFrame()\n",
    "ols['y'] = betas_capm['Excesso de Retorno']\n",
    "ols['x'] = betas_capm['Beta']\n",
    "result = sm.ols(formula=\"y ~ x\", data=ols).fit()"
   ]
  },
  {
   "cell_type": "code",
   "execution_count": 84,
   "metadata": {},
   "outputs": [
    {
     "name": "stdout",
     "output_type": "stream",
     "text": [
      "                            OLS Regression Results                            \n",
      "==============================================================================\n",
      "Dep. Variable:                      y   R-squared:                       0.519\n",
      "Model:                            OLS   Adj. R-squared:                  0.359\n",
      "Method:                 Least Squares   F-statistic:                     3.242\n",
      "Date:                Tue, 13 Dec 2022   Prob (F-statistic):              0.170\n",
      "Time:                        18:11:14   Log-Likelihood:                 6.0487\n",
      "No. Observations:                   5   AIC:                            -8.097\n",
      "Df Residuals:                       3   BIC:                            -8.878\n",
      "Df Model:                           1                                         \n",
      "Covariance Type:            nonrobust                                         \n",
      "==============================================================================\n",
      "                 coef    std err          t      P>|t|      [0.025      0.975]\n",
      "------------------------------------------------------------------------------\n",
      "Intercept      0.6759      0.176      3.847      0.031       0.117       1.235\n",
      "x             -1.1455      0.636     -1.801      0.170      -3.170       0.879\n",
      "==============================================================================\n",
      "Omnibus:                          nan   Durbin-Watson:                   2.172\n",
      "Prob(Omnibus):                    nan   Jarque-Bera (JB):                0.471\n",
      "Skew:                           0.315   Prob(JB):                        0.790\n",
      "Kurtosis:                       1.634   Cond. No.                         16.4\n",
      "==============================================================================\n",
      "\n",
      "Notes:\n",
      "[1] Standard Errors assume that the covariance matrix of the errors is correctly specified.\n"
     ]
    },
    {
     "name": "stderr",
     "output_type": "stream",
     "text": [
      "c:\\Users\\Usuario\\AppData\\Local\\Programs\\Python\\Python310\\lib\\site-packages\\statsmodels\\stats\\stattools.py:74: ValueWarning: omni_normtest is not valid with less than 8 observations; 5 samples were given.\n",
      "  warn(\"omni_normtest is not valid with less than 8 observations; %i \"\n"
     ]
    }
   ],
   "source": [
    "print(result.summary())"
   ]
  },
  {
   "attachments": {},
   "cell_type": "markdown",
   "metadata": {},
   "source": [
    "Para testar qual carteira tem o menor ajuste na abordagem Cross-Section, vamos utilizar os resíduos de cada amostra para responder tal pegunta, onde\n",
    "\n",
    "$$\n",
    "\\hat{u}_i = E\\left[R^i\\right]-R^0 - \\beta_i \\hat{\\lambda}_M - \\alpha\n",
    "$$"
   ]
  },
  {
   "cell_type": "code",
   "execution_count": 85,
   "metadata": {},
   "outputs": [],
   "source": [
    "alpha = result.params[0]\n",
    "lambda_chapeu = result.params[1]"
   ]
  },
  {
   "cell_type": "code",
   "execution_count": 86,
   "metadata": {},
   "outputs": [],
   "source": [
    "betas_capm['u'] = betas_capm['Excesso de Retorno'] - betas_capm['Beta']*lambda_chapeu - alpha"
   ]
  },
  {
   "cell_type": "code",
   "execution_count": 87,
   "metadata": {},
   "outputs": [
    {
     "data": {
      "text/html": [
       "<div>\n",
       "<style scoped>\n",
       "    .dataframe tbody tr th:only-of-type {\n",
       "        vertical-align: middle;\n",
       "    }\n",
       "\n",
       "    .dataframe tbody tr th {\n",
       "        vertical-align: top;\n",
       "    }\n",
       "\n",
       "    .dataframe thead th {\n",
       "        text-align: right;\n",
       "    }\n",
       "</style>\n",
       "<table border=\"1\" class=\"dataframe\">\n",
       "  <thead>\n",
       "    <tr style=\"text-align: right;\">\n",
       "      <th></th>\n",
       "      <th>Excesso de Retorno</th>\n",
       "      <th>Beta</th>\n",
       "      <th>u</th>\n",
       "    </tr>\n",
       "  </thead>\n",
       "  <tbody>\n",
       "    <tr>\n",
       "      <th>carteira20</th>\n",
       "      <td>0.571952</td>\n",
       "      <td>0.186044</td>\n",
       "      <td>0.109174</td>\n",
       "    </tr>\n",
       "    <tr>\n",
       "      <th>carteira40</th>\n",
       "      <td>0.347307</td>\n",
       "      <td>0.209152</td>\n",
       "      <td>-0.089002</td>\n",
       "    </tr>\n",
       "    <tr>\n",
       "      <th>carteira60</th>\n",
       "      <td>0.334106</td>\n",
       "      <td>0.280335</td>\n",
       "      <td>-0.020666</td>\n",
       "    </tr>\n",
       "    <tr>\n",
       "      <th>carteira80</th>\n",
       "      <td>0.282876</td>\n",
       "      <td>0.296395</td>\n",
       "      <td>-0.053501</td>\n",
       "    </tr>\n",
       "    <tr>\n",
       "      <th>carteira100</th>\n",
       "      <td>0.306566</td>\n",
       "      <td>0.369560</td>\n",
       "      <td>0.053996</td>\n",
       "    </tr>\n",
       "  </tbody>\n",
       "</table>\n",
       "</div>"
      ],
      "text/plain": [
       "             Excesso de Retorno      Beta         u\n",
       "carteira20             0.571952  0.186044  0.109174\n",
       "carteira40             0.347307  0.209152 -0.089002\n",
       "carteira60             0.334106  0.280335 -0.020666\n",
       "carteira80             0.282876  0.296395 -0.053501\n",
       "carteira100            0.306566  0.369560  0.053996"
      ]
     },
     "execution_count": 87,
     "metadata": {},
     "output_type": "execute_result"
    }
   ],
   "source": [
    "betas_capm"
   ]
  },
  {
   "attachments": {},
   "cell_type": "markdown",
   "metadata": {},
   "source": [
    "Como as carteiras com os dois menores Market Cap têm, em valores absolutos, o maior resíduo, então essas foram as que tiveram menor precisão. Enquanto a carteira com o Market Cap mediano tem o menor resíduo, então esta tem o seu excesso de retorno mais bem explicado por $\\beta$."
   ]
  },
  {
   "cell_type": "code",
   "execution_count": 88,
   "metadata": {},
   "outputs": [
    {
     "data": {
      "text/plain": [
       "Text(0.5, 1.0, 'CAPM Cross-Section')"
      ]
     },
     "execution_count": 88,
     "metadata": {},
     "output_type": "execute_result"
    },
    {
     "data": {
      "image/png": "[encoded data removed]",
      "text/plain": [
       "<Figure size 864x576 with 1 Axes>"
      ]
     },
     "metadata": {},
     "output_type": "display_data"
    }
   ],
   "source": [
    "# Gráfico do CAPM na abordagem de Cross-Section\n",
    "sns.regplot(data=betas_capm, x='Beta', y='Excesso de Retorno', scatter_kws={\"color\": \"black\"}, line_kws={\"color\": \"red\"}).set_title('CAPM Cross-Section')"
   ]
  },
  {
   "attachments": {},
   "cell_type": "markdown",
   "metadata": {},
   "source": [
    "#### Problema 3.\n",
    "Usando Fama-MacBeth e supondo que o Ibovespa é a carteira de mercado, teste o CAPM usando como test assets as 5 carteiras formadas pelo ordenamento do market cap. Nesse teste, a taxa sem risco deve ser a taxa de retorno mensal (anualizada) de LTNs de um mês."
   ]
  },
  {
   "attachments": {},
   "cell_type": "markdown",
   "metadata": {},
   "source": [
    "Neste problema, o modelo de múltiplos Betas de Fama e MacBeth, nesse contexto se dá na análise da seguinte regressão\n",
    "\n",
    "$$\n",
    "E\\left[R^M\\right]-R^0 = \\beta_1 \\left(\\mathbb{E}\\left[R^1\\right]-R^0\\right) + \\beta_2 \\left(\\mathbb{E}\\left[R^2\\right]-R^0\\right) + \\beta_3 \\left(\\mathbb{E}\\left[R^3\\right]-R^0\\right) + \\beta_4 \\left(\\mathbb{E}\\left[R^4\\right]-R^0\\right) + \\beta_5 \\left(\\mathbb{E}\\left[R^5\\right]-R^0\\right)\n",
    "$$\n",
    "\n",
    "onde $R^1$, $R^2$, $R^3$, $R^4$ e $R^5$ são respectivamente, os retornos das carteiras do primeiro, segundo, terceiro, quarto e quinto percentil."
   ]
  },
  {
   "cell_type": "code",
   "execution_count": 89,
   "metadata": {},
   "outputs": [],
   "source": [
    "ols = pd.DataFrame()\n",
    "\n",
    "ols['y'] = df['Ibovespa_Real'] - df['rf_Real']\n",
    "ols['x1'] = df['p20_real'] - df['rf_Real']\n",
    "ols['x2'] = df['p40_real'] - df['rf_Real']\n",
    "ols['x3'] = df['p60_real'] - df['rf_Real']\n",
    "ols['x4'] = df['p80_real'] - df['rf_Real']\n",
    "ols['x5'] = df['p100_real'] - df['rf_Real']\n",
    "\n",
    "result = sm.ols(formula=\"y ~ x1 + x2 + x3 + x4 + x5\", data=ols).fit()"
   ]
  },
  {
   "cell_type": "code",
   "execution_count": 90,
   "metadata": {},
   "outputs": [
    {
     "name": "stdout",
     "output_type": "stream",
     "text": [
      "                            OLS Regression Results                            \n",
      "==============================================================================\n",
      "Dep. Variable:                      y   R-squared:                       0.475\n",
      "Model:                            OLS   Adj. R-squared:                  0.466\n",
      "Method:                 Least Squares   F-statistic:                     55.15\n",
      "Date:                Tue, 13 Dec 2022   Prob (F-statistic):           1.06e-40\n",
      "Time:                        18:11:15   Log-Likelihood:                -601.03\n",
      "No. Observations:                 311   AIC:                             1214.\n",
      "Df Residuals:                     305   BIC:                             1236.\n",
      "Df Model:                           5                                         \n",
      "Covariance Type:            nonrobust                                         \n",
      "==============================================================================\n",
      "                 coef    std err          t      P>|t|      [0.025      0.975]\n",
      "------------------------------------------------------------------------------\n",
      "Intercept      0.2347      0.102      2.303      0.022       0.034       0.435\n",
      "x1             0.0221      0.065      0.338      0.736      -0.107       0.151\n",
      "x2             0.1372      0.125      1.100      0.272      -0.108       0.383\n",
      "x3             0.1136      0.132      0.860      0.390      -0.146       0.373\n",
      "x4             0.0119      0.168      0.071      0.944      -0.319       0.343\n",
      "x5             1.1003      0.111      9.921      0.000       0.882       1.319\n",
      "==============================================================================\n",
      "Omnibus:                      424.153   Durbin-Watson:                   1.988\n",
      "Prob(Omnibus):                  0.000   Jarque-Bera (JB):            60868.451\n",
      "Skew:                           6.354   Prob(JB):                         0.00\n",
      "Kurtosis:                      70.348   Cond. No.                         5.88\n",
      "==============================================================================\n",
      "\n",
      "Notes:\n",
      "[1] Standard Errors assume that the covariance matrix of the errors is correctly specified.\n"
     ]
    }
   ],
   "source": [
    "print(result.summary())"
   ]
  },
  {
   "attachments": {},
   "cell_type": "markdown",
   "metadata": {},
   "source": [
    "O único coeficiente estatisticamente significativo é o para o excesso de retorno da carteira do quinto percentil, isto é, a carteira de maior Market Cap. Esse resultado é compatível com o esperado."
   ]
  }
 ],
 "metadata": {
  "kernelspec": {
   "display_name": "Python 3.10.2 64-bit",
   "language": "python",
   "name": "python3"
  },
  "language_info": {
   "codemirror_mode": {
    "name": "ipython",
    "version": 3
   },
   "file_extension": ".py",
   "mimetype": "text/x-python",
   "name": "python",
   "nbconvert_exporter": "python",
   "pygments_lexer": "ipython3",
   "version": "3.10.2"
  },
  "orig_nbformat": 4,
  "vscode": {
   "interpreter": {
    "hash": "c63d8c7d738c2960218a10995aedf0a7f67a49a231e71037adf0440953cdb45b"
   }
  }
 },
 "nbformat": 4,
 "nbformat_minor": 2
}
